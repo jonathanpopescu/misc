{
 "cells": [
  {
   "cell_type": "code",
   "execution_count": 17,
   "metadata": {},
   "outputs": [],
   "source": [
    "import pandas as pd"
   ]
  },
  {
   "cell_type": "markdown",
   "metadata": {},
   "source": [
    "### Parse information from a column"
   ]
  },
  {
   "cell_type": "code",
   "execution_count": 153,
   "metadata": {},
   "outputs": [
    {
     "data": {
      "text/html": [
       "<div>\n",
       "<style scoped>\n",
       "    .dataframe tbody tr th:only-of-type {\n",
       "        vertical-align: middle;\n",
       "    }\n",
       "\n",
       "    .dataframe tbody tr th {\n",
       "        vertical-align: top;\n",
       "    }\n",
       "\n",
       "    .dataframe thead th {\n",
       "        text-align: right;\n",
       "    }\n",
       "</style>\n",
       "<table border=\"1\" class=\"dataframe\">\n",
       "  <thead>\n",
       "    <tr style=\"text-align: right;\">\n",
       "      <th></th>\n",
       "      <th>key</th>\n",
       "      <th>col_</th>\n",
       "    </tr>\n",
       "  </thead>\n",
       "  <tbody>\n",
       "    <tr>\n",
       "      <th>0</th>\n",
       "      <td>1</td>\n",
       "      <td>id=1&amp;name=jack&amp;fave_color=blue</td>\n",
       "    </tr>\n",
       "    <tr>\n",
       "      <th>1</th>\n",
       "      <td>2</td>\n",
       "      <td>id=2&amp;name=jill&amp;fave_color=green</td>\n",
       "    </tr>\n",
       "    <tr>\n",
       "      <th>2</th>\n",
       "      <td>3</td>\n",
       "      <td>id=3&amp;name=jon&amp;fave_color=purple</td>\n",
       "    </tr>\n",
       "  </tbody>\n",
       "</table>\n",
       "</div>"
      ],
      "text/plain": [
       "  key                             col_\n",
       "0   1   id=1&name=jack&fave_color=blue\n",
       "1   2  id=2&name=jill&fave_color=green\n",
       "2   3  id=3&name=jon&fave_color=purple"
      ]
     },
     "execution_count": 153,
     "metadata": {},
     "output_type": "execute_result"
    }
   ],
   "source": [
    "# Starting dataset\n",
    "# Create a column that has some kind of mapping to parse\n",
    "columns = [\"key\",\"col_\"]\n",
    "data = [(\"1\", \"id=1&name=jack&fave_color=blue\"), (\"2\", \"id=2&name=jill&fave_color=green\"), (\"3\", \"id=3&name=jon&fave_color=purple\")]\n",
    "\n",
    "df = pd.DataFrame(data=data, columns=columns)\n",
    "df"
   ]
  },
  {
   "cell_type": "code",
   "execution_count": 155,
   "metadata": {},
   "outputs": [
    {
     "data": {
      "text/html": [
       "<div>\n",
       "<style scoped>\n",
       "    .dataframe tbody tr th:only-of-type {\n",
       "        vertical-align: middle;\n",
       "    }\n",
       "\n",
       "    .dataframe tbody tr th {\n",
       "        vertical-align: top;\n",
       "    }\n",
       "\n",
       "    .dataframe thead th {\n",
       "        text-align: right;\n",
       "    }\n",
       "</style>\n",
       "<table border=\"1\" class=\"dataframe\">\n",
       "  <thead>\n",
       "    <tr style=\"text-align: right;\">\n",
       "      <th></th>\n",
       "      <th>id</th>\n",
       "      <th>name</th>\n",
       "      <th>fave_color</th>\n",
       "    </tr>\n",
       "  </thead>\n",
       "  <tbody>\n",
       "    <tr>\n",
       "      <th>0</th>\n",
       "      <td>1</td>\n",
       "      <td>jack</td>\n",
       "      <td>blue</td>\n",
       "    </tr>\n",
       "    <tr>\n",
       "      <th>1</th>\n",
       "      <td>2</td>\n",
       "      <td>jill</td>\n",
       "      <td>green</td>\n",
       "    </tr>\n",
       "    <tr>\n",
       "      <th>2</th>\n",
       "      <td>3</td>\n",
       "      <td>jon</td>\n",
       "      <td>purple</td>\n",
       "    </tr>\n",
       "  </tbody>\n",
       "</table>\n",
       "</div>"
      ],
      "text/plain": [
       "  id  name fave_color\n",
       "0  1  jack       blue\n",
       "1  2  jill      green\n",
       "2  3   jon     purple"
      ]
     },
     "execution_count": 155,
     "metadata": {},
     "output_type": "execute_result"
    }
   ],
   "source": [
    "\n",
    "df1 = pd.concat([df[[\"key\"]], df[\"col_\"].str.split('&', expand=True)], axis=1)\n",
    "new_headers = df1.iloc[0].str.split('=').str[0]\n",
    "df1.rename(columns=new_headers, inplace = True)\n",
    "#df1.drop('1', axis = 1, inplace=True)\n",
    "#df1[new_headers].str.split('=').str[1]\n",
    "#df1\n",
    "ser1 = df1.iloc[:,1].str.split('=').str[1]\n",
    "ser2 = df1.iloc[:,2].str.split('=').str[1]\n",
    "ser3 = df1.iloc[:,3].str.split('=').str[1]\n",
    "# print(type(df1.iloc[:,2].str.split('=').str[1]))\n",
    "# def remove_left(df1):\n",
    "#     return df1[\"id\"].apply(lambda x: x.split('=').str[1])\n",
    "\n",
    "# Final Dataset\n",
    "df2 = pd.concat([ser1,ser2,ser3], axis=1)\n",
    "df2\n",
    "# remove_left(df1)\n",
    "\n",
    "# df1.iloc[:,1].apply(lambda x: x.split('=').str[1])"
   ]
  },
  {
   "cell_type": "code",
   "execution_count": null,
   "metadata": {},
   "outputs": [],
   "source": []
  }
 ],
 "metadata": {
  "kernelspec": {
   "display_name": "Python 3.11.0 64-bit",
   "language": "python",
   "name": "python3"
  },
  "language_info": {
   "codemirror_mode": {
    "name": "ipython",
    "version": 3
   },
   "file_extension": ".py",
   "mimetype": "text/x-python",
   "name": "python",
   "nbconvert_exporter": "python",
   "pygments_lexer": "ipython3",
   "version": "3.11.0"
  },
  "orig_nbformat": 4,
  "vscode": {
   "interpreter": {
    "hash": "d3b0b11cb7d11d49b5e3635acdd91449cb5315eddf739ed4ac114fb6f040febb"
   }
  }
 },
 "nbformat": 4,
 "nbformat_minor": 2
}
